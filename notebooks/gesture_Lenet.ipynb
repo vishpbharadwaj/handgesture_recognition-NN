{
 "cells": [
  {
   "cell_type": "code",
   "execution_count": 172,
   "metadata": {},
   "outputs": [],
   "source": [
    "%matplotlib inline\n",
    "import tensorflow as tf\n",
    "import numpy as np\n",
    "import matplotlib.pyplot as plt\n",
    "import h5py as h5py\n",
    "import pandas as pd\n",
    "#sess = tf.InteractiveSession()"
   ]
  },
  {
   "cell_type": "code",
   "execution_count": 173,
   "metadata": {},
   "outputs": [],
   "source": [
    "def load_dataset():\n",
    "    train_dataset = h5py.File('signs_dataset/train_signs.h5', \"r\")\n",
    "    train_set_x_orig = np.array(train_dataset[\"train_set_x\"][:]) # your train set features\n",
    "    train_set_y_orig = np.array(train_dataset[\"train_set_y\"][:]) # your train set labels\n",
    "\n",
    "    test_dataset = h5py.File('signs_dataset/test_signs.h5', \"r\")\n",
    "    test_set_x_orig = np.array(test_dataset[\"test_set_x\"][:]) # your test set features\n",
    "    test_set_y_orig = np.array(test_dataset[\"test_set_y\"][:]) # your test set labels\n",
    "\n",
    "    classes = np.array(test_dataset[\"list_classes\"][:]) # the list of classes\n",
    "    \n",
    "    train_set_y_orig = train_set_y_orig.reshape((1, train_set_y_orig.shape[0]))\n",
    "    test_set_y_orig = test_set_y_orig.reshape((1, test_set_y_orig.shape[0]))\n",
    "    \n",
    "    return train_set_x_orig, train_set_y_orig, test_set_x_orig, test_set_y_orig, classes"
   ]
  },
  {
   "cell_type": "code",
   "execution_count": 180,
   "metadata": {},
   "outputs": [],
   "source": [
    "def tf_var_normInit(shape):\n",
    "    '''Helper function to create a weight variable initialized with\n",
    "    a normal distribution\n",
    "\n",
    "    Parameters\n",
    "    ----------\n",
    "    shape : list\n",
    "        Size of weight variable\n",
    "    '''\n",
    "    initial = tf.random_normal(shape, mean=0.0, stddev=0.01,dtype=tf.float32)\n",
    "    return tf.Variable(initial)"
   ]
  },
  {
   "cell_type": "code",
   "execution_count": 181,
   "metadata": {},
   "outputs": [],
   "source": [
    "def conv_params(lx_filter_size,ch_N,lx_filter_Num):\n",
    "    '''Helper function to create weights and biases\n",
    "\n",
    "    Parameters\n",
    "    ----------\n",
    "    lx_filter_size : filter of (size x size) of layer 'x'\n",
    "    \n",
    "    ch_N : channel size of the filter i.e. (size x size x ch_N)\n",
    "    \n",
    "    lx_filter_Num : No of filters required for filter of layer 'x'\n",
    "    '''\n",
    "    \n",
    "    W_conv = tf_var_normInit([lx_filter_size, lx_filter_size, ch_N, lx_filter_Num])\n",
    "    B_conv = tf_var_normInit([lx_filter_Num])\n",
    "    return W_conv, B_conv"
   ]
  },
  {
   "cell_type": "code",
   "execution_count": 182,
   "metadata": {},
   "outputs": [
    {
     "name": "stdout",
     "output_type": "stream",
     "text": [
      "(1080, 64, 64, 3)\n",
      "No. of Training samples (batch): 1080\n",
      "No. of Test samples: 120\n",
      "No. of gestures: 6\n",
      "Image format (Len, Wid, Chan): 64 * 64 * 3\n"
     ]
    }
   ],
   "source": [
    "LOGDIR = \"/home/vishnu/Dropbox/intel_works/ipython_notebooks/tf_tests/logs\"\n",
    "\n",
    "#loading the dataset\n",
    "train_set_x_orig, train_set_y, test_set_x_orig, test_set_y, classes = load_dataset()\n",
    "#index = 1079\n",
    "#plt.imshow(train_set_x_orig[index])\n",
    "print(train_set_x_orig.shape)\n",
    "print(\"No. of Training samples (batch): %d\"%train_set_x_orig.shape[0])\n",
    "print(\"No. of Test samples: %d\"%test_set_x_orig.shape[0])\n",
    "print(\"No. of gestures: %d\"%classes.size)\n",
    "print(\"Image format (Len, Wid, Chan): %d * %d * %d\"%(train_set_x_orig.shape[1],train_set_x_orig.shape[2],train_set_x_orig.shape[3]))"
   ]
  },
  {
   "cell_type": "code",
   "execution_count": 183,
   "metadata": {},
   "outputs": [],
   "source": [
    "x = tf.placeholder(tf.float32, [None, train_set_x_orig.shape[1],train_set_x_orig.shape[2],train_set_x_orig.shape[3]])\n",
    "y = tf.placeholder(tf.float32, [None, classes.size])\n",
    "\n",
    "x = tf.cast(x,tf.float32) # casting as the original was uint8"
   ]
  },
  {
   "cell_type": "code",
   "execution_count": 184,
   "metadata": {},
   "outputs": [
    {
     "name": "stdout",
     "output_type": "stream",
     "text": [
      "(3, 3, 3, 3)\n"
     ]
    }
   ],
   "source": [
    "#conv1 layer to convert the input to Lenet format\n",
    "with tf.name_scope('conv1_1'):\n",
    "    ch_X = train_set_x_orig.shape[3]\n",
    "    l1_filter_size = 3 # filter size of n*n for convolution\n",
    "    l1_filter_Num = 3 # No. of filters required\n",
    "\n",
    "    W_conv1, B_conv1 = conv_params(l1_filter_size,ch_X,l1_filter_Num)\n",
    "    print(W_conv1.get_shape())\n",
    "\n",
    "    # %% Now we can build a graph which does the first layer of convolution:\n",
    "    # we define our stride as batch x height x width x channels\n",
    "    # instead of pooling, we use strides of 2 and more layers\n",
    "    # with smaller filters.\n",
    "    h_conv1 = tf.nn.relu(\n",
    "        tf.nn.conv2d(\n",
    "            input=x,\n",
    "            filter=W_conv1,\n",
    "            strides=[1, 2, 2, 1],\n",
    "            padding='SAME') \n",
    "        + B_conv1,\n",
    "        name=\"h_conv1\")\n",
    "    \n",
    "    tf.summary.histogram(\"weights\", W_conv1)\n",
    "    tf.summary.histogram(\"biases\", B_conv1)\n",
    "    tf.summary.histogram(\"activations\", h_conv1)"
   ]
  },
  {
   "cell_type": "code",
   "execution_count": 185,
   "metadata": {},
   "outputs": [],
   "source": [
    "#conv2 for adhering to Lenet\n",
    "with tf.name_scope('conv1_2'):\n",
    "    ch_1 = tf.cast(h_conv1.shape[3],tf.int32)\n",
    "    l2_filter_size = 5 # filter size of n*n for convolution\n",
    "    l2_filter_Num = 6 # No. of filters required\n",
    "\n",
    "    W_conv2, B_conv2 = conv_params(l2_filter_size,ch_1,l2_filter_Num)\n",
    "\n",
    "    h_conv2 = tf.nn.relu(\n",
    "        tf.nn.conv2d(\n",
    "            input=h_conv1,\n",
    "            filter=W_conv2,\n",
    "            strides=[1, 1, 1, 1],\n",
    "            padding='VALID') \n",
    "        + B_conv2,\n",
    "        name=\"h_conv2\")\n",
    "    \n",
    "    tf.summary.histogram(\"weights\", W_conv2)\n",
    "    tf.summary.histogram(\"biases\", B_conv2)\n",
    "    tf.summary.histogram(\"activations\", h_conv2)"
   ]
  },
  {
   "cell_type": "code",
   "execution_count": 186,
   "metadata": {},
   "outputs": [],
   "source": [
    "#avg pooling layer\n",
    "with tf.name_scope('pool1'):\n",
    "    ch_2 = tf.cast(h_conv2.shape[3],tf.int32)\n",
    "    k_size = [1,2,2,1] #filter size\n",
    "    h_conv2_pool = tf.nn.avg_pool(h_conv2,k_size,strides=[1, 2, 2, 1],padding='VALID',name=\"h_conv2_pool\")"
   ]
  },
  {
   "cell_type": "code",
   "execution_count": 187,
   "metadata": {},
   "outputs": [],
   "source": [
    "#conv3 for adhering to Lenet\n",
    "with tf.name_scope('conv2_1'):\n",
    "    ch_3 = tf.cast(h_conv2_pool.shape[3],tf.int32)\n",
    "    l3_filter_size = 5 # filter size of n*n for convolution\n",
    "    l3_filter_Num = 16 # No. of filters required\n",
    "\n",
    "    W_conv3, B_conv3 = conv_params(l3_filter_size,ch_3,l3_filter_Num)\n",
    "\n",
    "    h_conv3 = tf.nn.relu(\n",
    "        tf.nn.conv2d(\n",
    "            input=h_conv2_pool,\n",
    "            filter=W_conv3,\n",
    "            strides=[1, 1, 1, 1],\n",
    "            padding='VALID') \n",
    "        + B_conv3,\n",
    "        name=\"h_conv3\")\n",
    "    \n",
    "    tf.summary.histogram(\"weights\", W_conv3)\n",
    "    tf.summary.histogram(\"biases\", B_conv3)\n",
    "    tf.summary.histogram(\"activations\", h_conv3)"
   ]
  },
  {
   "cell_type": "code",
   "execution_count": 188,
   "metadata": {},
   "outputs": [],
   "source": [
    "#conv4 for adhering to Lenet\n",
    "with tf.name_scope('conv2_2'):\n",
    "    ch_4 = tf.cast(h_conv3.shape[3],tf.int32)\n",
    "    l4_filter_size = 2 # filter size of n*n for convolution\n",
    "    l4_filter_Num = 16 # No. of filters required\n",
    "\n",
    "    W_conv4, B_conv4 = conv_params(l4_filter_size,ch_4,l4_filter_Num)\n",
    "\n",
    "    h_conv4 = tf.nn.relu(\n",
    "        tf.nn.conv2d(\n",
    "            input=h_conv3,\n",
    "            filter=W_conv4,\n",
    "            strides=[1, 2, 2, 1],\n",
    "            padding='VALID') \n",
    "        + B_conv4,\n",
    "        name=\"h_conv4\")\n",
    "    \n",
    "    tf.summary.histogram(\"weights\", W_conv4)\n",
    "    tf.summary.histogram(\"biases\", B_conv4)\n",
    "    tf.summary.histogram(\"activations\", h_conv4)"
   ]
  },
  {
   "cell_type": "code",
   "execution_count": 189,
   "metadata": {},
   "outputs": [
    {
     "name": "stdout",
     "output_type": "stream",
     "text": [
      "(?, 400)\n"
     ]
    }
   ],
   "source": [
    "# %% We'll now reshape so we can connect to a fully-connected layer:\n",
    "h_conv4_flat = tf.reshape(h_conv4, [-1, 5 * 5 * 16])\n",
    "print(h_conv4_flat.get_shape())"
   ]
  },
  {
   "cell_type": "code",
   "execution_count": 191,
   "metadata": {},
   "outputs": [],
   "source": [
    "# %% Create a fully-connected layer 1:\n",
    "with tf.name_scope('fc1') as scope:\n",
    "    n_fc1 = 120\n",
    "    W_fc1 = tf_var_normInit([5 * 5 * 16, n_fc1])\n",
    "    b_fc1 = tf_var_normInit([n_fc1])\n",
    "    h_fc1 = tf.nn.relu(tf.matmul(h_conv4_flat, W_fc1) + b_fc1)\n",
    "    \n",
    "    tf.summary.histogram(\"weights\", W_fc1)\n",
    "    tf.summary.histogram(\"biases\", b_fc1)\n",
    "    tf.summary.histogram(\"activations\", h_fc1)"
   ]
  },
  {
   "cell_type": "code",
   "execution_count": 192,
   "metadata": {},
   "outputs": [],
   "source": [
    "# %% Create a fully-connected layer 2:\n",
    "with tf.name_scope('fc2') as scope:\n",
    "    n_fc2 = 84\n",
    "    W_fc2 = tf_var_normInit([n_fc1, n_fc2])\n",
    "    b_fc2 = tf_var_normInit([n_fc2])\n",
    "    h_fc2 = tf.nn.relu(tf.matmul(h_fc1, W_fc2) + b_fc2)\n",
    "    \n",
    "    tf.summary.histogram(\"weights\", W_fc2)\n",
    "    tf.summary.histogram(\"biases\", b_fc2)\n",
    "    tf.summary.histogram(\"activations\", h_fc2)"
   ]
  },
  {
   "cell_type": "code",
   "execution_count": 193,
   "metadata": {},
   "outputs": [
    {
     "name": "stdout",
     "output_type": "stream",
     "text": [
      "(?, 6)\n"
     ]
    }
   ],
   "source": [
    "# %% And finally our softmax layer:\n",
    "W_fc3 = tf_var_normInit([n_fc2, 6])\n",
    "b_fc3 = tf_var_normInit([6])\n",
    "y_pred = tf.nn.softmax(tf.matmul(h_fc2, W_fc3) + b_fc3)\n",
    "print(y_pred.get_shape())"
   ]
  },
  {
   "cell_type": "code",
   "execution_count": 194,
   "metadata": {},
   "outputs": [],
   "source": [
    "# %% Define loss/eval/training functions\n",
    "with tf.name_scope('cross_entropy'):\n",
    "    cross_entropy = -tf.reduce_sum(y * tf.log(y_pred))\n",
    "    \n",
    "    tf.summary.scalar(\"cross_entropy\", cross_entropy)\n",
    "\n",
    "with tf.name_scope('train'):    \n",
    "    optimizer = tf.train.AdamOptimizer(learning_rate=0.001).minimize(cross_entropy)"
   ]
  },
  {
   "cell_type": "code",
   "execution_count": 195,
   "metadata": {},
   "outputs": [],
   "source": [
    "# %% Monitor accuracy\n",
    "with tf.name_scope('accuracy'):\n",
    "    correct_prediction = tf.equal(tf.argmax(y_pred, 1), tf.argmax(y, 1))\n",
    "    accuracy = tf.reduce_mean(tf.cast(correct_prediction, 'float'))\n",
    "    \n",
    "    tf.summary.scalar(\"accuracy\", accuracy)"
   ]
  },
  {
   "cell_type": "code",
   "execution_count": 196,
   "metadata": {},
   "outputs": [],
   "source": [
    "summ = tf.summary.merge_all()\n",
    "\n",
    "# %% We now create a new session to actually perform the initialization the\n",
    "sess = tf.Session()\n",
    "sess.run(tf.global_variables_initializer())\n",
    "\n",
    "writer = tf.summary.FileWriter(LOGDIR)\n",
    "writer.add_graph(sess.graph)"
   ]
  },
  {
   "cell_type": "code",
   "execution_count": 200,
   "metadata": {},
   "outputs": [
    {
     "name": "stdout",
     "output_type": "stream",
     "text": [
      "(120, 64, 64, 3)\n",
      "(120, 6)\n"
     ]
    }
   ],
   "source": [
    "y_org = np.eye(6)[train_set_y] #converting it into one-hot encoding\n",
    "y_org = np.reshape(y_org,[y_org.shape[1],y_org.shape[2]])\n",
    "\n",
    "y_val = np.eye(6)[test_set_y] #converting it into one-hot encoding\n",
    "y_val = np.reshape(y_val,[y_val.shape[1],y_val.shape[2]])\n",
    "\n",
    "test_x, test_y = test_set_x_orig, y_val\n",
    "print(test_set_x_orig.shape)\n",
    "print(y_val.shape)\n",
    "# %% We'll train in minibatches and report accuracy\n",
    "batch_size = 200\n",
    "n_epochs = 5\n",
    "for epoch_i in range(n_epochs):\n",
    "    accHist = []\n",
    "    accHist2 = []\n",
    "    for batch_i in range(train_set_x_orig.shape[0] // batch_size):\n",
    "        batch_xs, batch_ys = train_set_x_orig[(batch_i+batch_i*epoch_i):batch_size,:,:,:], y_org[(batch_i+batch_i*epoch_i):batch_size,:]\n",
    "        sess.run(optimizer, feed_dict={x: batch_xs, y: batch_ys})\n",
    "        \n",
    "    #acc,s = (sess.run([accuracy,summ],feed_dict={x: test_set_x_orig,y: y_val}))\n",
    "    #writer.add_summary(s, epoch_i)\n"
   ]
  },
  {
   "cell_type": "code",
   "execution_count": null,
   "metadata": {},
   "outputs": [],
   "source": []
  }
 ],
 "metadata": {
  "kernelspec": {
   "display_name": "Python 3",
   "language": "python",
   "name": "python3"
  },
  "language_info": {
   "codemirror_mode": {
    "name": "ipython",
    "version": 3
   },
   "file_extension": ".py",
   "mimetype": "text/x-python",
   "name": "python",
   "nbconvert_exporter": "python",
   "pygments_lexer": "ipython3",
   "version": "3.5.2"
  }
 },
 "nbformat": 4,
 "nbformat_minor": 2
}
