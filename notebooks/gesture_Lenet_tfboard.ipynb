{
 "cells": [
  {
   "cell_type": "code",
   "execution_count": 46,
   "metadata": {},
   "outputs": [],
   "source": [
    "%matplotlib inline\n",
    "import tensorflow as tf\n",
    "import numpy as np\n",
    "import matplotlib.pyplot as plt\n",
    "import h5py as h5py"
   ]
  },
  {
   "cell_type": "code",
   "execution_count": 47,
   "metadata": {},
   "outputs": [],
   "source": [
    "def load_dataset():\n",
    "    train_dataset = h5py.File('signs_dataset/train_signs.h5', \"r\")\n",
    "    train_set_x_orig = np.array(train_dataset[\"train_set_x\"][:]) # your train set features\n",
    "    train_set_y_orig = np.array(train_dataset[\"train_set_y\"][:]) # your train set labels\n",
    "\n",
    "    test_dataset = h5py.File('signs_dataset/test_signs.h5', \"r\")\n",
    "    test_set_x_orig = np.array(test_dataset[\"test_set_x\"][:]) # your test set features\n",
    "    test_set_y_orig = np.array(test_dataset[\"test_set_y\"][:]) # your test set labels\n",
    "\n",
    "    classes = np.array(test_dataset[\"list_classes\"][:]) # the list of classes\n",
    "    \n",
    "    train_set_y_orig = train_set_y_orig.reshape((1, train_set_y_orig.shape[0]))\n",
    "    test_set_y_orig = test_set_y_orig.reshape((1, test_set_y_orig.shape[0]))\n",
    "    \n",
    "    return train_set_x_orig, train_set_y_orig, test_set_x_orig, test_set_y_orig, classes"
   ]
  },
  {
   "cell_type": "code",
   "execution_count": 48,
   "metadata": {},
   "outputs": [],
   "source": [
    "def put_filters_on_grid(w_filter):\n",
    "    '''\n",
    "    Visualize conv. filters as an image.\n",
    "    Arranges filters into a grid, with some paddings between adjacent filters.\n",
    "    \n",
    "    Args:\n",
    "        kernel: tensor of shape [Y, X, NumChannels, NumKernels]\n",
    "    \n",
    "    Return:\n",
    "        Tensor of shape [1, (Y+2*pad)*grid_Y, (X+2*pad)*grid_X, NumChannels].\n",
    "    '''\n",
    "    pad = 1\n",
    "    padding = tf.constant([[pad, pad], [pad, pad],[0,0],[0,0]]) #padding of 1 around first 2d filter of n*n\n",
    "    padded_filt = tf.pad(w_filter,padding,\"CONSTANT\")\n",
    "    \n",
    "    padded_filt = tf.transpose(padded_filt) #this is done so that filter of n*n goes to last dimension\n",
    "    \n",
    "    #filt_size = padded_filt.get_shape()[3]\n",
    "    #num_chan = padded_filt.get_shape()[0]\n",
    "    #num_outfilt = padded_filt.get_shape()[1]\n",
    "    \n",
    "    #filt_size = padded_filt.shape[3]\n",
    "    #num_chan = padded_filt.shape[0]\n",
    "    #num_outfilt = padded_filt.shape[1]\n",
    "    \n",
    "    filt_size = tf.shape(padded_filt)[3]\n",
    "    num_chan = tf.shape(padded_filt)[0]\n",
    "    num_outfilt = tf.shape(padded_filt)[1]\n",
    "    \n",
    "    filt_size = tf.cast(filt_size, tf.int32)   #typecasting and stacking because issue with tf.reshape command\n",
    "    num_chan = tf.cast(num_chan,tf.int32)\n",
    "    num_outfilt = tf.cast(num_outfilt,tf.int32)\n",
    "    roll_shape = tf.stack([1,num_chan*filt_size,num_outfilt*filt_size,1])\n",
    "    \n",
    "    #roll_shape = tf.constant([1,num_chan*filt_size,num_outfilt*filt_size,1])\n",
    "    \n",
    "   \n",
    "    grid = tf.reshape(padded_filt,roll_shape)\n",
    "    #print(grid.get_shape())\n",
    "        \n",
    "    return grid"
   ]
  },
  {
   "cell_type": "code",
   "execution_count": 49,
   "metadata": {},
   "outputs": [],
   "source": [
    "def put_conv_img_ongrid(z_conv):\n",
    "    '''\n",
    "    Visualize convolved image with filters .\n",
    "    Arranges filters into a grid, with some paddings between adjacent filters.\n",
    "    \n",
    "    Args:\n",
    "        kernel: tensor of shape [Y, X, NumChannels, NumKernels]\n",
    "    \n",
    "    Return:\n",
    "        Tensor of shape [1, (Y+2*pad)*grid_Y, (X+2*pad)*grid_X, NumChannels].\n",
    "    '''\n",
    "    \n",
    "    pad = 1\n",
    "    padding = tf.constant([[0,0],[pad, pad], [pad, pad],[0,0]]) #padding of 1 around first 2d filter of n*n\n",
    "    padded_img = tf.pad(z_conv,padding,\"CONSTANT\")\n",
    "    print(padded_img)\n",
    "    \n",
    "    grey_img_size = tf.shape(padded_img)[1]  #or tf.shape(padded_img)[2]\n",
    "    num_img_chan = tf.shape(padded_img)[3]\n",
    "    num_img_batch = tf.shape(padded_img)[0]\n",
    "    \n",
    "    num_grey_img = num_img_batch * num_img_chan\n",
    "    print(num_grey_img)\n",
    "    \n",
    "    #if num_grey_img % 2 ==0:\n",
    "    #    num_grey_img_half = num_grey_img // 2\n",
    "    #else\n",
    "    #    num_grey_img_half\n",
    "    \n",
    "    #conv_img = tf.reshape(padded_img,[1, grey_img_size*grey_img_size*num_img_chan*num_grey_img_half,grey_img_size*grey_img_size*num_img_chan*num_grey_img_half,1])\n",
    "    \n",
    "    conv_img = tf.reshape(padded_img,[1, grey_img_size*grey_img_size*num_img_chan,num_img_batch,1])\n",
    "\n",
    "    return conv_img\n",
    "    \n",
    "#conv_img = put_conv_img_ongrid(z_conv)\n",
    "#print((conv_img.shape))"
   ]
  },
  {
   "cell_type": "code",
   "execution_count": 50,
   "metadata": {},
   "outputs": [
    {
     "name": "stdout",
     "output_type": "stream",
     "text": [
      "No. of Training samples (batch): 1080\n",
      "No. of Test samples: 120\n",
      "No. of gestures: 6\n",
      "Image format (Len, Wid, Chan): 64 * 64 * 3\n"
     ]
    }
   ],
   "source": [
    "LOGDIR = \"/home/vishnu/Dropbox/intel_works/ipython_notebooks/tf_tests/logs\"\n",
    "\n",
    "#loading the dataset\n",
    "train_x, train_y, test_x, test_y, classes = load_dataset()\n",
    "#index = 1079\n",
    "#plt.imshow(train_set_x_orig[index])\n",
    "#print(test_x.shape)\n",
    "print(\"No. of Training samples (batch): %d\"%train_x.shape[0])\n",
    "print(\"No. of Test samples: %d\"%test_x.shape[0])\n",
    "print(\"No. of gestures: %d\"%classes.size)\n",
    "print(\"Image format (Len, Wid, Chan): %d * %d * %d\"%(train_x.shape[1],train_x.shape[2],train_x.shape[3]))"
   ]
  },
  {
   "cell_type": "code",
   "execution_count": 51,
   "metadata": {},
   "outputs": [
    {
     "name": "stdout",
     "output_type": "stream",
     "text": [
      "64\n"
     ]
    }
   ],
   "source": [
    "x = tf.placeholder(tf.float32, [None, train_x.shape[1],train_x.shape[2],train_x.shape[3]])\n",
    "y = tf.placeholder(tf.float32, [None, classes.size])\n",
    "\n",
    "x = tf.cast(x,tf.float32) # casting as the original was uint8\n",
    "print(x.shape[2])"
   ]
  },
  {
   "cell_type": "code",
   "execution_count": 52,
   "metadata": {},
   "outputs": [
    {
     "name": "stdout",
     "output_type": "stream",
     "text": [
      "(?, 32, 32, 3)\n",
      "Tensor(\"conv_1_2/Pad:0\", shape=(?, 34, 34, 3), dtype=float32)\n",
      "Tensor(\"conv_1_2/mul:0\", shape=(), dtype=int32)\n",
      "(1, ?, ?, 1)\n"
     ]
    }
   ],
   "source": [
    "#conv1 layer to convert the input to Lenet format\n",
    "with tf.name_scope('conv_1'):\n",
    "    ch_X = tf.cast(x.shape[3],tf.int32)\n",
    "    l1_filter_size = 3 # filter size of n*n for convolution\n",
    "    l1_filter_Num = 3 # No. of filters required\n",
    "    stride_1 = [1,2,2,1]\n",
    "    \n",
    "    w = tf.Variable(tf.truncated_normal([l1_filter_size, l1_filter_size, ch_X, l1_filter_Num], stddev=0.1), name=\"W\")\n",
    "    b = tf.Variable(tf.constant(0.1, shape=[l1_filter_Num]), name=\"B\")\n",
    "    \n",
    "    z_conv = tf.nn.conv2d(x,w,stride_1,padding=\"SAME\") + b\n",
    "    act1 = tf.nn.relu(z_conv,name=\"act1\")\n",
    "\n",
    "    tf.summary.histogram(\"weights\", w)\n",
    "    tf.summary.histogram(\"biases\", b)\n",
    "    tf.summary.histogram(\"activations\", act1)\n",
    "    print(act1.shape)\n",
    "    \n",
    "    # Visualize conv1 kernels\n",
    "    grid = put_conv_img_ongrid(z_conv)\n",
    "    print(grid.shape)\n",
    "    tf.summary.image('conv1_kernal', grid, max_outputs=1)"
   ]
  },
  {
   "cell_type": "code",
   "execution_count": 53,
   "metadata": {},
   "outputs": [
    {
     "name": "stdout",
     "output_type": "stream",
     "text": [
      "(5, 5, 3, 6)\n",
      "Tensor(\"conv_2_2/Pad:0\", shape=(?, 30, 30, 6), dtype=float32)\n",
      "Tensor(\"conv_2_2/mul:0\", shape=(), dtype=int32)\n",
      "(1, ?, ?, 1)\n"
     ]
    }
   ],
   "source": [
    "#conv2 layer to convert the input to Lenet format\n",
    "with tf.name_scope('conv_2'):\n",
    "    ch_1 = tf.cast(act1.shape[3],tf.int32)\n",
    "    l2_filter_size = 5 # filter size of n*n for convolution\n",
    "    l2_filter_Num = 6 # No. of filters required\n",
    "    stride_2 = [1,1,1,1]\n",
    "    \n",
    "    w = tf.Variable(tf.truncated_normal([l2_filter_size, l2_filter_size, ch_1, l2_filter_Num], stddev=0.1), name=\"W\")\n",
    "    b = tf.Variable(tf.constant(0.1, shape=[l2_filter_Num]), name=\"B\")\n",
    "    \n",
    "    z_conv = tf.nn.conv2d(act1,w,stride_2,padding=\"VALID\") + b\n",
    "    act2 = tf.nn.relu(z_conv,name=\"act2\")\n",
    "\n",
    "    tf.summary.histogram(\"weights\", w)\n",
    "    tf.summary.histogram(\"biases\", b)\n",
    "    tf.summary.histogram(\"activations\", act2)\n",
    "    print(w.get_shape())\n",
    "    \n",
    "    grid = put_conv_img_ongrid(z_conv)\n",
    "    print(grid.get_shape())\n",
    "    tf.summary.image('conv2_kernal', grid, max_outputs=1)"
   ]
  },
  {
   "cell_type": "code",
   "execution_count": 54,
   "metadata": {},
   "outputs": [
    {
     "name": "stdout",
     "output_type": "stream",
     "text": [
      "(?, 14, 14, 6)\n"
     ]
    }
   ],
   "source": [
    "#avg pooling layer\n",
    "with tf.name_scope('pool1'):\n",
    "    ch_2 = tf.cast(act2.shape[3],tf.int32)\n",
    "    k_size = [1,2,2,1] #filter size\n",
    "    act2_pool = tf.nn.avg_pool(act2,k_size,strides=[1, 2, 2, 1],padding='VALID',name=\"act2_pool\")\n",
    "    print(act2_pool.get_shape())"
   ]
  },
  {
   "cell_type": "code",
   "execution_count": 55,
   "metadata": {},
   "outputs": [
    {
     "name": "stdout",
     "output_type": "stream",
     "text": [
      "Tensor(\"conv_3_2/Pad:0\", shape=(?, 12, 12, 16), dtype=float32)\n",
      "Tensor(\"conv_3_2/mul:0\", shape=(), dtype=int32)\n",
      "(1, ?, ?, 1)\n"
     ]
    }
   ],
   "source": [
    "#conv3 layer to convert the input to Lenet format\n",
    "with tf.name_scope('conv_3'):\n",
    "    ch_3 = tf.cast(act2_pool.shape[3],tf.int32)\n",
    "    l3_filter_size = 5 # filter size of n*n for convolution\n",
    "    l3_filter_Num = 16 # No. of filters required\n",
    "    stride_3 = [1,1,1,1]\n",
    "    \n",
    "    w = tf.Variable(tf.truncated_normal([l3_filter_size, l3_filter_size, ch_3, l3_filter_Num], stddev=0.1), name=\"W\")\n",
    "    b = tf.Variable(tf.constant(0.1, shape=[l3_filter_Num]), name=\"B\")\n",
    "    \n",
    "    z_conv = tf.nn.conv2d(act2_pool,w,stride_3,padding=\"VALID\") + b\n",
    "    act3 = tf.nn.relu(z_conv,name=\"act3\")\n",
    "\n",
    "    tf.summary.histogram(\"weights\", w)\n",
    "    tf.summary.histogram(\"biases\", b)\n",
    "    tf.summary.histogram(\"activations\", act3)\n",
    "    #print(w.get_shape())\n",
    "    \n",
    "    grid = put_conv_img_ongrid(z_conv)\n",
    "    print(grid.shape)\n",
    "    tf.summary.image('conv3_kernal', grid, max_outputs=1)"
   ]
  },
  {
   "cell_type": "code",
   "execution_count": 56,
   "metadata": {},
   "outputs": [
    {
     "name": "stdout",
     "output_type": "stream",
     "text": [
      "(?, 5, 5, 16)\n",
      "Tensor(\"conv_4_2/Pad:0\", shape=(?, 7, 7, 16), dtype=float32)\n",
      "Tensor(\"conv_4_2/mul:0\", shape=(), dtype=int32)\n",
      "(1, ?, ?, 1)\n"
     ]
    }
   ],
   "source": [
    "#conv4 layer to convert the input to Lenet format\n",
    "with tf.name_scope('conv_4'):\n",
    "    ch_4 = tf.cast(act3.shape[3],tf.int32)\n",
    "    l4_filter_size = 2 # filter size of n*n for convolution\n",
    "    l4_filter_Num = 16 # No. of filters required\n",
    "    stride_4 = [1,2,2,1]\n",
    "    \n",
    "    w = tf.Variable(tf.truncated_normal([l4_filter_size, l4_filter_size, ch_4, l4_filter_Num], stddev=0.1), name=\"W\")\n",
    "    b = tf.Variable(tf.constant(0.1, shape=[l4_filter_Num]), name=\"B\")\n",
    "    \n",
    "    z_conv = tf.nn.conv2d(act3,w,stride_4,padding=\"VALID\") + b\n",
    "    act4 = tf.nn.relu(z_conv,name=\"act4\")\n",
    "\n",
    "    tf.summary.histogram(\"weights\", w)\n",
    "    tf.summary.histogram(\"biases\", b)\n",
    "    tf.summary.histogram(\"activations\", act4)\n",
    "    print(act4.get_shape())\n",
    "    \n",
    "    grid = put_conv_img_ongrid(z_conv)\n",
    "    print(grid.get_shape())\n",
    "    tf.summary.image('conv4_kernal', grid, max_outputs=1)"
   ]
  },
  {
   "cell_type": "code",
   "execution_count": 57,
   "metadata": {},
   "outputs": [
    {
     "name": "stdout",
     "output_type": "stream",
     "text": [
      "(?, 400)\n"
     ]
    }
   ],
   "source": [
    "# %% We'll now reshape so we can connect to a fully-connected layer:\n",
    "act4_flat = tf.reshape(act4, [-1, 5 * 5 * 16])\n",
    "print(act4_flat.get_shape())"
   ]
  },
  {
   "cell_type": "code",
   "execution_count": 58,
   "metadata": {},
   "outputs": [
    {
     "name": "stdout",
     "output_type": "stream",
     "text": [
      "(?, 120)\n"
     ]
    }
   ],
   "source": [
    "# %% Create a fully-connected layer 1:\n",
    "with tf.name_scope('fc1') as scope:\n",
    "    n_fc1 = 120\n",
    "    W_fc1 = tf.Variable(tf.truncated_normal([5 * 5 * 16, n_fc1], stddev=0.1),name=\"w_fc1\")\n",
    "    b_fc1 = tf.Variable(tf.truncated_normal([n_fc1], stddev=0.1),name=\"b_fc1\")\n",
    "    h_fc1 = tf.nn.relu(tf.matmul(act4_flat, W_fc1) + b_fc1)\n",
    "    \n",
    "    tf.summary.histogram(\"weights\", W_fc1)\n",
    "    tf.summary.histogram(\"biases\", b_fc1)\n",
    "    tf.summary.histogram(\"activations\", h_fc1)\n",
    "    print(h_fc1.get_shape())"
   ]
  },
  {
   "cell_type": "code",
   "execution_count": 59,
   "metadata": {},
   "outputs": [
    {
     "name": "stdout",
     "output_type": "stream",
     "text": [
      "(?, 84)\n"
     ]
    }
   ],
   "source": [
    "# %% Create a fully-connected layer 2:\n",
    "with tf.name_scope('fc2') as scope:\n",
    "    n_fc2 = 84\n",
    "    W_fc2 = tf.Variable(tf.truncated_normal([n_fc1, n_fc2], stddev=0.1),name=\"w_fc2\")\n",
    "    b_fc2 = tf.Variable(tf.truncated_normal([n_fc2], stddev=0.1),name=\"b_fc2\")\n",
    "    h_fc2 = tf.nn.relu(tf.matmul(h_fc1, W_fc2) + b_fc2)\n",
    "    \n",
    "    tf.summary.histogram(\"weights\", W_fc2)\n",
    "    tf.summary.histogram(\"biases\", b_fc2)\n",
    "    tf.summary.histogram(\"activations\", h_fc2)\n",
    "    print(h_fc2.get_shape())"
   ]
  },
  {
   "cell_type": "code",
   "execution_count": 60,
   "metadata": {},
   "outputs": [
    {
     "name": "stdout",
     "output_type": "stream",
     "text": [
      "(?, 6)\n"
     ]
    }
   ],
   "source": [
    "# %% And finally our softmax layer:\n",
    "with tf.name_scope('softmax') as scope:\n",
    "    W_fc3 = tf.Variable(tf.truncated_normal([n_fc2, 6], stddev=0.1),name=\"w_fc3\")\n",
    "    b_fc3 = tf.Variable(tf.truncated_normal([6], stddev=0.1),name=\"b_fc3\")\n",
    "    y_pred = tf.nn.softmax(tf.matmul(h_fc2, W_fc3) + b_fc3)\n",
    "    print(y_pred.get_shape())"
   ]
  },
  {
   "cell_type": "code",
   "execution_count": 61,
   "metadata": {},
   "outputs": [],
   "source": [
    "# %% Define loss/eval/training functions\n",
    "with tf.name_scope('cross_entropy'):\n",
    "    cross_entropy = -tf.reduce_sum(y * tf.log(y_pred))\n",
    "    \n",
    "    tf.summary.scalar(\"cross_entropy\", cross_entropy)\n",
    "\n",
    "with tf.name_scope('train'):    \n",
    "    optimizer = tf.train.AdamOptimizer(learning_rate=0.001).minimize(cross_entropy)"
   ]
  },
  {
   "cell_type": "code",
   "execution_count": 62,
   "metadata": {},
   "outputs": [
    {
     "name": "stdout",
     "output_type": "stream",
     "text": [
      "(?,)\n"
     ]
    }
   ],
   "source": [
    "# %% Monitor accuracy\n",
    "with tf.name_scope('accuracy'):\n",
    "    correct_prediction = tf.equal(tf.argmax(y_pred, 1), tf.argmax(y, 1))\n",
    "    accuracy = tf.reduce_mean(tf.cast(correct_prediction, 'float'))\n",
    "    print(correct_prediction.get_shape())\n",
    "    tf.summary.scalar(\"accuracy\", accuracy)"
   ]
  },
  {
   "cell_type": "code",
   "execution_count": 63,
   "metadata": {},
   "outputs": [],
   "source": [
    "summ = tf.summary.merge_all()\n",
    "\n",
    "# %% We now create a new session to actually perform the initialization the\n",
    "sess = tf.Session()\n",
    "sess.run(tf.global_variables_initializer())\n",
    "\n",
    "writer = tf.summary.FileWriter(LOGDIR)\n",
    "writer.add_graph(sess.graph)"
   ]
  },
  {
   "cell_type": "code",
   "execution_count": 64,
   "metadata": {},
   "outputs": [
    {
     "name": "stdout",
     "output_type": "stream",
     "text": [
      "0.17\n"
     ]
    },
    {
     "ename": "InvalidArgumentError",
     "evalue": "You must feed a value for placeholder tensor 'Placeholder_3' with dtype float and shape [?,6]\n\t [[Node: Placeholder_3 = Placeholder[dtype=DT_FLOAT, shape=[?,6], _device=\"/job:localhost/replica:0/task:0/cpu:0\"]()]]\n\nCaused by op 'Placeholder_3', defined at:\n  File \"/usr/lib/python3.5/runpy.py\", line 184, in _run_module_as_main\n    \"__main__\", mod_spec)\n  File \"/usr/lib/python3.5/runpy.py\", line 85, in _run_code\n    exec(code, run_globals)\n  File \"/usr/local/lib/python3.5/dist-packages/ipykernel_launcher.py\", line 16, in <module>\n    app.launch_new_instance()\n  File \"/usr/local/lib/python3.5/dist-packages/traitlets/config/application.py\", line 658, in launch_instance\n    app.start()\n  File \"/usr/local/lib/python3.5/dist-packages/ipykernel/kernelapp.py\", line 477, in start\n    ioloop.IOLoop.instance().start()\n  File \"/usr/local/lib/python3.5/dist-packages/zmq/eventloop/ioloop.py\", line 177, in start\n    super(ZMQIOLoop, self).start()\n  File \"/usr/local/lib/python3.5/dist-packages/tornado/ioloop.py\", line 888, in start\n    handler_func(fd_obj, events)\n  File \"/usr/local/lib/python3.5/dist-packages/tornado/stack_context.py\", line 277, in null_wrapper\n    return fn(*args, **kwargs)\n  File \"/usr/local/lib/python3.5/dist-packages/zmq/eventloop/zmqstream.py\", line 440, in _handle_events\n    self._handle_recv()\n  File \"/usr/local/lib/python3.5/dist-packages/zmq/eventloop/zmqstream.py\", line 472, in _handle_recv\n    self._run_callback(callback, msg)\n  File \"/usr/local/lib/python3.5/dist-packages/zmq/eventloop/zmqstream.py\", line 414, in _run_callback\n    callback(*args, **kwargs)\n  File \"/usr/local/lib/python3.5/dist-packages/tornado/stack_context.py\", line 277, in null_wrapper\n    return fn(*args, **kwargs)\n  File \"/usr/local/lib/python3.5/dist-packages/ipykernel/kernelbase.py\", line 283, in dispatcher\n    return self.dispatch_shell(stream, msg)\n  File \"/usr/local/lib/python3.5/dist-packages/ipykernel/kernelbase.py\", line 235, in dispatch_shell\n    handler(stream, idents, msg)\n  File \"/usr/local/lib/python3.5/dist-packages/ipykernel/kernelbase.py\", line 399, in execute_request\n    user_expressions, allow_stdin)\n  File \"/usr/local/lib/python3.5/dist-packages/ipykernel/ipkernel.py\", line 196, in do_execute\n    res = shell.run_cell(code, store_history=store_history, silent=silent)\n  File \"/usr/local/lib/python3.5/dist-packages/ipykernel/zmqshell.py\", line 533, in run_cell\n    return super(ZMQInteractiveShell, self).run_cell(*args, **kwargs)\n  File \"/usr/local/lib/python3.5/dist-packages/IPython/core/interactiveshell.py\", line 2728, in run_cell\n    interactivity=interactivity, compiler=compiler, result=result)\n  File \"/usr/local/lib/python3.5/dist-packages/IPython/core/interactiveshell.py\", line 2850, in run_ast_nodes\n    if self.run_code(code, result):\n  File \"/usr/local/lib/python3.5/dist-packages/IPython/core/interactiveshell.py\", line 2910, in run_code\n    exec(code_obj, self.user_global_ns, self.user_ns)\n  File \"<ipython-input-29-6c2e94061bb5>\", line 2, in <module>\n    y = tf.placeholder(tf.float32, [None, classes.size])\n  File \"/usr/local/lib/python3.5/dist-packages/tensorflow/python/ops/array_ops.py\", line 1548, in placeholder\n    return gen_array_ops._placeholder(dtype=dtype, shape=shape, name=name)\n  File \"/usr/local/lib/python3.5/dist-packages/tensorflow/python/ops/gen_array_ops.py\", line 2094, in _placeholder\n    name=name)\n  File \"/usr/local/lib/python3.5/dist-packages/tensorflow/python/framework/op_def_library.py\", line 767, in apply_op\n    op_def=op_def)\n  File \"/usr/local/lib/python3.5/dist-packages/tensorflow/python/framework/ops.py\", line 2630, in create_op\n    original_op=self._default_original_op, op_def=op_def)\n  File \"/usr/local/lib/python3.5/dist-packages/tensorflow/python/framework/ops.py\", line 1204, in __init__\n    self._traceback = self._graph._extract_stack()  # pylint: disable=protected-access\n\nInvalidArgumentError (see above for traceback): You must feed a value for placeholder tensor 'Placeholder_3' with dtype float and shape [?,6]\n\t [[Node: Placeholder_3 = Placeholder[dtype=DT_FLOAT, shape=[?,6], _device=\"/job:localhost/replica:0/task:0/cpu:0\"]()]]\n",
     "output_type": "error",
     "traceback": [
      "\u001b[0;31m---------------------------------------------------------------------------\u001b[0m",
      "\u001b[0;31mInvalidArgumentError\u001b[0m                      Traceback (most recent call last)",
      "\u001b[0;32m/usr/local/lib/python3.5/dist-packages/tensorflow/python/client/session.py\u001b[0m in \u001b[0;36m_do_call\u001b[0;34m(self, fn, *args)\u001b[0m\n\u001b[1;32m   1326\u001b[0m     \u001b[0;32mtry\u001b[0m\u001b[0;34m:\u001b[0m\u001b[0;34m\u001b[0m\u001b[0m\n\u001b[0;32m-> 1327\u001b[0;31m       \u001b[0;32mreturn\u001b[0m \u001b[0mfn\u001b[0m\u001b[0;34m(\u001b[0m\u001b[0;34m*\u001b[0m\u001b[0margs\u001b[0m\u001b[0;34m)\u001b[0m\u001b[0;34m\u001b[0m\u001b[0m\n\u001b[0m\u001b[1;32m   1328\u001b[0m     \u001b[0;32mexcept\u001b[0m \u001b[0merrors\u001b[0m\u001b[0;34m.\u001b[0m\u001b[0mOpError\u001b[0m \u001b[0;32mas\u001b[0m \u001b[0me\u001b[0m\u001b[0;34m:\u001b[0m\u001b[0;34m\u001b[0m\u001b[0m\n",
      "\u001b[0;32m/usr/local/lib/python3.5/dist-packages/tensorflow/python/client/session.py\u001b[0m in \u001b[0;36m_run_fn\u001b[0;34m(session, feed_dict, fetch_list, target_list, options, run_metadata)\u001b[0m\n\u001b[1;32m   1305\u001b[0m                                    \u001b[0mfeed_dict\u001b[0m\u001b[0;34m,\u001b[0m \u001b[0mfetch_list\u001b[0m\u001b[0;34m,\u001b[0m \u001b[0mtarget_list\u001b[0m\u001b[0;34m,\u001b[0m\u001b[0;34m\u001b[0m\u001b[0m\n\u001b[0;32m-> 1306\u001b[0;31m                                    status, run_metadata)\n\u001b[0m\u001b[1;32m   1307\u001b[0m \u001b[0;34m\u001b[0m\u001b[0m\n",
      "\u001b[0;32m/usr/lib/python3.5/contextlib.py\u001b[0m in \u001b[0;36m__exit__\u001b[0;34m(self, type, value, traceback)\u001b[0m\n\u001b[1;32m     65\u001b[0m             \u001b[0;32mtry\u001b[0m\u001b[0;34m:\u001b[0m\u001b[0;34m\u001b[0m\u001b[0m\n\u001b[0;32m---> 66\u001b[0;31m                 \u001b[0mnext\u001b[0m\u001b[0;34m(\u001b[0m\u001b[0mself\u001b[0m\u001b[0;34m.\u001b[0m\u001b[0mgen\u001b[0m\u001b[0;34m)\u001b[0m\u001b[0;34m\u001b[0m\u001b[0m\n\u001b[0m\u001b[1;32m     67\u001b[0m             \u001b[0;32mexcept\u001b[0m \u001b[0mStopIteration\u001b[0m\u001b[0;34m:\u001b[0m\u001b[0;34m\u001b[0m\u001b[0m\n",
      "\u001b[0;32m/usr/local/lib/python3.5/dist-packages/tensorflow/python/framework/errors_impl.py\u001b[0m in \u001b[0;36mraise_exception_on_not_ok_status\u001b[0;34m()\u001b[0m\n\u001b[1;32m    465\u001b[0m           \u001b[0mcompat\u001b[0m\u001b[0;34m.\u001b[0m\u001b[0mas_text\u001b[0m\u001b[0;34m(\u001b[0m\u001b[0mpywrap_tensorflow\u001b[0m\u001b[0;34m.\u001b[0m\u001b[0mTF_Message\u001b[0m\u001b[0;34m(\u001b[0m\u001b[0mstatus\u001b[0m\u001b[0;34m)\u001b[0m\u001b[0;34m)\u001b[0m\u001b[0;34m,\u001b[0m\u001b[0;34m\u001b[0m\u001b[0m\n\u001b[0;32m--> 466\u001b[0;31m           pywrap_tensorflow.TF_GetCode(status))\n\u001b[0m\u001b[1;32m    467\u001b[0m   \u001b[0;32mfinally\u001b[0m\u001b[0;34m:\u001b[0m\u001b[0;34m\u001b[0m\u001b[0m\n",
      "\u001b[0;31mInvalidArgumentError\u001b[0m: You must feed a value for placeholder tensor 'Placeholder_3' with dtype float and shape [?,6]\n\t [[Node: Placeholder_3 = Placeholder[dtype=DT_FLOAT, shape=[?,6], _device=\"/job:localhost/replica:0/task:0/cpu:0\"]()]]",
      "\nDuring handling of the above exception, another exception occurred:\n",
      "\u001b[0;31mInvalidArgumentError\u001b[0m                      Traceback (most recent call last)",
      "\u001b[0;32m<ipython-input-64-dff75b618a32>\u001b[0m in \u001b[0;36m<module>\u001b[0;34m()\u001b[0m\n\u001b[1;32m     14\u001b[0m             \u001b[0mtrain_accuracy\u001b[0m \u001b[0;34m=\u001b[0m \u001b[0msess\u001b[0m\u001b[0;34m.\u001b[0m\u001b[0mrun\u001b[0m\u001b[0;34m(\u001b[0m\u001b[0maccuracy\u001b[0m\u001b[0;34m,\u001b[0m \u001b[0mfeed_dict\u001b[0m\u001b[0;34m=\u001b[0m\u001b[0;34m{\u001b[0m\u001b[0mx\u001b[0m\u001b[0;34m:\u001b[0m\u001b[0mbatch_xs\u001b[0m\u001b[0;34m,\u001b[0m \u001b[0my\u001b[0m\u001b[0;34m:\u001b[0m\u001b[0mbatch_ys\u001b[0m\u001b[0;34m}\u001b[0m\u001b[0;34m)\u001b[0m\u001b[0;34m\u001b[0m\u001b[0m\n\u001b[1;32m     15\u001b[0m             \u001b[0mprint\u001b[0m\u001b[0;34m(\u001b[0m\u001b[0mtrain_accuracy\u001b[0m\u001b[0;34m)\u001b[0m\u001b[0;34m\u001b[0m\u001b[0m\n\u001b[0;32m---> 16\u001b[0;31m             \u001b[0ms\u001b[0m \u001b[0;34m=\u001b[0m \u001b[0msess\u001b[0m\u001b[0;34m.\u001b[0m\u001b[0mrun\u001b[0m\u001b[0;34m(\u001b[0m\u001b[0msumm\u001b[0m\u001b[0;34m,\u001b[0m \u001b[0mfeed_dict\u001b[0m\u001b[0;34m=\u001b[0m\u001b[0;34m{\u001b[0m\u001b[0mx\u001b[0m\u001b[0;34m:\u001b[0m\u001b[0mbatch_xs\u001b[0m\u001b[0;34m,\u001b[0m \u001b[0my\u001b[0m\u001b[0;34m:\u001b[0m\u001b[0mbatch_ys\u001b[0m\u001b[0;34m}\u001b[0m\u001b[0;34m)\u001b[0m\u001b[0;34m\u001b[0m\u001b[0m\n\u001b[0m\u001b[1;32m     17\u001b[0m             \u001b[0mwriter\u001b[0m\u001b[0;34m.\u001b[0m\u001b[0madd_summary\u001b[0m\u001b[0;34m(\u001b[0m\u001b[0ms\u001b[0m\u001b[0;34m,\u001b[0m \u001b[0mi\u001b[0m\u001b[0;34m)\u001b[0m\u001b[0;34m\u001b[0m\u001b[0m\n\u001b[1;32m     18\u001b[0m \u001b[0;34m\u001b[0m\u001b[0m\n",
      "\u001b[0;32m/usr/local/lib/python3.5/dist-packages/tensorflow/python/client/session.py\u001b[0m in \u001b[0;36mrun\u001b[0;34m(self, fetches, feed_dict, options, run_metadata)\u001b[0m\n\u001b[1;32m    893\u001b[0m     \u001b[0;32mtry\u001b[0m\u001b[0;34m:\u001b[0m\u001b[0;34m\u001b[0m\u001b[0m\n\u001b[1;32m    894\u001b[0m       result = self._run(None, fetches, feed_dict, options_ptr,\n\u001b[0;32m--> 895\u001b[0;31m                          run_metadata_ptr)\n\u001b[0m\u001b[1;32m    896\u001b[0m       \u001b[0;32mif\u001b[0m \u001b[0mrun_metadata\u001b[0m\u001b[0;34m:\u001b[0m\u001b[0;34m\u001b[0m\u001b[0m\n\u001b[1;32m    897\u001b[0m         \u001b[0mproto_data\u001b[0m \u001b[0;34m=\u001b[0m \u001b[0mtf_session\u001b[0m\u001b[0;34m.\u001b[0m\u001b[0mTF_GetBuffer\u001b[0m\u001b[0;34m(\u001b[0m\u001b[0mrun_metadata_ptr\u001b[0m\u001b[0;34m)\u001b[0m\u001b[0;34m\u001b[0m\u001b[0m\n",
      "\u001b[0;32m/usr/local/lib/python3.5/dist-packages/tensorflow/python/client/session.py\u001b[0m in \u001b[0;36m_run\u001b[0;34m(self, handle, fetches, feed_dict, options, run_metadata)\u001b[0m\n\u001b[1;32m   1122\u001b[0m     \u001b[0;32mif\u001b[0m \u001b[0mfinal_fetches\u001b[0m \u001b[0;32mor\u001b[0m \u001b[0mfinal_targets\u001b[0m \u001b[0;32mor\u001b[0m \u001b[0;34m(\u001b[0m\u001b[0mhandle\u001b[0m \u001b[0;32mand\u001b[0m \u001b[0mfeed_dict_tensor\u001b[0m\u001b[0;34m)\u001b[0m\u001b[0;34m:\u001b[0m\u001b[0;34m\u001b[0m\u001b[0m\n\u001b[1;32m   1123\u001b[0m       results = self._do_run(handle, final_targets, final_fetches,\n\u001b[0;32m-> 1124\u001b[0;31m                              feed_dict_tensor, options, run_metadata)\n\u001b[0m\u001b[1;32m   1125\u001b[0m     \u001b[0;32melse\u001b[0m\u001b[0;34m:\u001b[0m\u001b[0;34m\u001b[0m\u001b[0m\n\u001b[1;32m   1126\u001b[0m       \u001b[0mresults\u001b[0m \u001b[0;34m=\u001b[0m \u001b[0;34m[\u001b[0m\u001b[0;34m]\u001b[0m\u001b[0;34m\u001b[0m\u001b[0m\n",
      "\u001b[0;32m/usr/local/lib/python3.5/dist-packages/tensorflow/python/client/session.py\u001b[0m in \u001b[0;36m_do_run\u001b[0;34m(self, handle, target_list, fetch_list, feed_dict, options, run_metadata)\u001b[0m\n\u001b[1;32m   1319\u001b[0m     \u001b[0;32mif\u001b[0m \u001b[0mhandle\u001b[0m \u001b[0;32mis\u001b[0m \u001b[0;32mNone\u001b[0m\u001b[0;34m:\u001b[0m\u001b[0;34m\u001b[0m\u001b[0m\n\u001b[1;32m   1320\u001b[0m       return self._do_call(_run_fn, self._session, feeds, fetches, targets,\n\u001b[0;32m-> 1321\u001b[0;31m                            options, run_metadata)\n\u001b[0m\u001b[1;32m   1322\u001b[0m     \u001b[0;32melse\u001b[0m\u001b[0;34m:\u001b[0m\u001b[0;34m\u001b[0m\u001b[0m\n\u001b[1;32m   1323\u001b[0m       \u001b[0;32mreturn\u001b[0m \u001b[0mself\u001b[0m\u001b[0;34m.\u001b[0m\u001b[0m_do_call\u001b[0m\u001b[0;34m(\u001b[0m\u001b[0m_prun_fn\u001b[0m\u001b[0;34m,\u001b[0m \u001b[0mself\u001b[0m\u001b[0;34m.\u001b[0m\u001b[0m_session\u001b[0m\u001b[0;34m,\u001b[0m \u001b[0mhandle\u001b[0m\u001b[0;34m,\u001b[0m \u001b[0mfeeds\u001b[0m\u001b[0;34m,\u001b[0m \u001b[0mfetches\u001b[0m\u001b[0;34m)\u001b[0m\u001b[0;34m\u001b[0m\u001b[0m\n",
      "\u001b[0;32m/usr/local/lib/python3.5/dist-packages/tensorflow/python/client/session.py\u001b[0m in \u001b[0;36m_do_call\u001b[0;34m(self, fn, *args)\u001b[0m\n\u001b[1;32m   1338\u001b[0m         \u001b[0;32mexcept\u001b[0m \u001b[0mKeyError\u001b[0m\u001b[0;34m:\u001b[0m\u001b[0;34m\u001b[0m\u001b[0m\n\u001b[1;32m   1339\u001b[0m           \u001b[0;32mpass\u001b[0m\u001b[0;34m\u001b[0m\u001b[0m\n\u001b[0;32m-> 1340\u001b[0;31m       \u001b[0;32mraise\u001b[0m \u001b[0mtype\u001b[0m\u001b[0;34m(\u001b[0m\u001b[0me\u001b[0m\u001b[0;34m)\u001b[0m\u001b[0;34m(\u001b[0m\u001b[0mnode_def\u001b[0m\u001b[0;34m,\u001b[0m \u001b[0mop\u001b[0m\u001b[0;34m,\u001b[0m \u001b[0mmessage\u001b[0m\u001b[0;34m)\u001b[0m\u001b[0;34m\u001b[0m\u001b[0m\n\u001b[0m\u001b[1;32m   1341\u001b[0m \u001b[0;34m\u001b[0m\u001b[0m\n\u001b[1;32m   1342\u001b[0m   \u001b[0;32mdef\u001b[0m \u001b[0m_extend_graph\u001b[0m\u001b[0;34m(\u001b[0m\u001b[0mself\u001b[0m\u001b[0;34m)\u001b[0m\u001b[0;34m:\u001b[0m\u001b[0;34m\u001b[0m\u001b[0m\n",
      "\u001b[0;31mInvalidArgumentError\u001b[0m: You must feed a value for placeholder tensor 'Placeholder_3' with dtype float and shape [?,6]\n\t [[Node: Placeholder_3 = Placeholder[dtype=DT_FLOAT, shape=[?,6], _device=\"/job:localhost/replica:0/task:0/cpu:0\"]()]]\n\nCaused by op 'Placeholder_3', defined at:\n  File \"/usr/lib/python3.5/runpy.py\", line 184, in _run_module_as_main\n    \"__main__\", mod_spec)\n  File \"/usr/lib/python3.5/runpy.py\", line 85, in _run_code\n    exec(code, run_globals)\n  File \"/usr/local/lib/python3.5/dist-packages/ipykernel_launcher.py\", line 16, in <module>\n    app.launch_new_instance()\n  File \"/usr/local/lib/python3.5/dist-packages/traitlets/config/application.py\", line 658, in launch_instance\n    app.start()\n  File \"/usr/local/lib/python3.5/dist-packages/ipykernel/kernelapp.py\", line 477, in start\n    ioloop.IOLoop.instance().start()\n  File \"/usr/local/lib/python3.5/dist-packages/zmq/eventloop/ioloop.py\", line 177, in start\n    super(ZMQIOLoop, self).start()\n  File \"/usr/local/lib/python3.5/dist-packages/tornado/ioloop.py\", line 888, in start\n    handler_func(fd_obj, events)\n  File \"/usr/local/lib/python3.5/dist-packages/tornado/stack_context.py\", line 277, in null_wrapper\n    return fn(*args, **kwargs)\n  File \"/usr/local/lib/python3.5/dist-packages/zmq/eventloop/zmqstream.py\", line 440, in _handle_events\n    self._handle_recv()\n  File \"/usr/local/lib/python3.5/dist-packages/zmq/eventloop/zmqstream.py\", line 472, in _handle_recv\n    self._run_callback(callback, msg)\n  File \"/usr/local/lib/python3.5/dist-packages/zmq/eventloop/zmqstream.py\", line 414, in _run_callback\n    callback(*args, **kwargs)\n  File \"/usr/local/lib/python3.5/dist-packages/tornado/stack_context.py\", line 277, in null_wrapper\n    return fn(*args, **kwargs)\n  File \"/usr/local/lib/python3.5/dist-packages/ipykernel/kernelbase.py\", line 283, in dispatcher\n    return self.dispatch_shell(stream, msg)\n  File \"/usr/local/lib/python3.5/dist-packages/ipykernel/kernelbase.py\", line 235, in dispatch_shell\n    handler(stream, idents, msg)\n  File \"/usr/local/lib/python3.5/dist-packages/ipykernel/kernelbase.py\", line 399, in execute_request\n    user_expressions, allow_stdin)\n  File \"/usr/local/lib/python3.5/dist-packages/ipykernel/ipkernel.py\", line 196, in do_execute\n    res = shell.run_cell(code, store_history=store_history, silent=silent)\n  File \"/usr/local/lib/python3.5/dist-packages/ipykernel/zmqshell.py\", line 533, in run_cell\n    return super(ZMQInteractiveShell, self).run_cell(*args, **kwargs)\n  File \"/usr/local/lib/python3.5/dist-packages/IPython/core/interactiveshell.py\", line 2728, in run_cell\n    interactivity=interactivity, compiler=compiler, result=result)\n  File \"/usr/local/lib/python3.5/dist-packages/IPython/core/interactiveshell.py\", line 2850, in run_ast_nodes\n    if self.run_code(code, result):\n  File \"/usr/local/lib/python3.5/dist-packages/IPython/core/interactiveshell.py\", line 2910, in run_code\n    exec(code_obj, self.user_global_ns, self.user_ns)\n  File \"<ipython-input-29-6c2e94061bb5>\", line 2, in <module>\n    y = tf.placeholder(tf.float32, [None, classes.size])\n  File \"/usr/local/lib/python3.5/dist-packages/tensorflow/python/ops/array_ops.py\", line 1548, in placeholder\n    return gen_array_ops._placeholder(dtype=dtype, shape=shape, name=name)\n  File \"/usr/local/lib/python3.5/dist-packages/tensorflow/python/ops/gen_array_ops.py\", line 2094, in _placeholder\n    name=name)\n  File \"/usr/local/lib/python3.5/dist-packages/tensorflow/python/framework/op_def_library.py\", line 767, in apply_op\n    op_def=op_def)\n  File \"/usr/local/lib/python3.5/dist-packages/tensorflow/python/framework/ops.py\", line 2630, in create_op\n    original_op=self._default_original_op, op_def=op_def)\n  File \"/usr/local/lib/python3.5/dist-packages/tensorflow/python/framework/ops.py\", line 1204, in __init__\n    self._traceback = self._graph._extract_stack()  # pylint: disable=protected-access\n\nInvalidArgumentError (see above for traceback): You must feed a value for placeholder tensor 'Placeholder_3' with dtype float and shape [?,6]\n\t [[Node: Placeholder_3 = Placeholder[dtype=DT_FLOAT, shape=[?,6], _device=\"/job:localhost/replica:0/task:0/cpu:0\"]()]]\n"
     ]
    }
   ],
   "source": [
    "y_org = np.eye(6)[train_y] #converting it into one-hot encoding\n",
    "y_org = np.reshape(y_org,[y_org.shape[1],y_org.shape[2]])\n",
    "\n",
    "y_val = np.eye(6)[test_y] #converting it into one-hot encoding\n",
    "y_val = np.reshape(y_val,[y_val.shape[1],y_val.shape[2]])\n",
    "\n",
    "ep = 10\n",
    "batch_size = 100\n",
    "\n",
    "for i in range(ep):\n",
    "    for batch_i in range(train_x.shape[0] // batch_size):\n",
    "        if batch_i % 5 == 0:\n",
    "            batch_xs, batch_ys = train_x[(batch_i+batch_i*i):batch_size,:,:,:], y_org[(batch_i+batch_i*i):batch_size,:]\n",
    "            train_accuracy = sess.run(accuracy, feed_dict={x:batch_xs, y:batch_ys})\n",
    "            print(train_accuracy)\n",
    "            s = sess.run(summ, feed_dict={x:batch_xs, y:batch_ys})\n",
    "            writer.add_summary(s, i)\n",
    "\n",
    "        #if i % 4 == 0:\n",
    "            sess.run(optimizer, feed_dict={x:batch_xs, y:batch_ys})"
   ]
  },
  {
   "cell_type": "code",
   "execution_count": null,
   "metadata": {},
   "outputs": [],
   "source": []
  }
 ],
 "metadata": {
  "kernelspec": {
   "display_name": "Python 3",
   "language": "python",
   "name": "python3"
  },
  "language_info": {
   "codemirror_mode": {
    "name": "ipython",
    "version": 3
   },
   "file_extension": ".py",
   "mimetype": "text/x-python",
   "name": "python",
   "nbconvert_exporter": "python",
   "pygments_lexer": "ipython3",
   "version": "3.5.2"
  }
 },
 "nbformat": 4,
 "nbformat_minor": 2
}
